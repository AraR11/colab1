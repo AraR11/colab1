{
  "nbformat": 4,
  "nbformat_minor": 0,
  "metadata": {
    "colab": {
      "name": "Laboratorio8.ipynb",
      "provenance": [],
      "collapsed_sections": [],
      "authorship_tag": "ABX9TyN29kfW8U1ycNpBaRAL+leZ",
      "include_colab_link": true
    },
    "kernelspec": {
      "name": "python3",
      "display_name": "Python 3"
    },
    "language_info": {
      "name": "python"
    }
  },
  "cells": [
    {
      "cell_type": "markdown",
      "metadata": {
        "id": "view-in-github",
        "colab_type": "text"
      },
      "source": [
        "<a href=\"https://colab.research.google.com/github/AraR11/colab1/blob/main/Laboratorio8.ipynb\" target=\"_parent\"><img src=\"https://colab.research.google.com/assets/colab-badge.svg\" alt=\"Open In Colab\"/></a>"
      ]
    },
    {
      "cell_type": "markdown",
      "source": [
        "**Laboratorio inicial de uso Colab**"
      ],
      "metadata": {
        "id": "3BIpWglgBogD"
      }
    },
    {
      "cell_type": "markdown",
      "source": [
        "*Aramis Ramirez Lopez*"
      ],
      "metadata": {
        "id": "dmUURwPFFqJ0"
      }
    },
    {
      "cell_type": "code",
      "source": [
        "import pandas as pd\n",
        "\n",
        "from google.colab import auth\n",
        "auth.authenticate_user()\n",
        "\n",
        "import gspread \n",
        "from google.auth import default\n",
        "creds, _ = default()\n",
        "\n",
        "gc=gspread.authorize(creds)\n",
        "sh=gc.create('Aramis Ramirez')\n",
        "\n"
      ],
      "metadata": {
        "id": "DtONE-CECPeK"
      },
      "execution_count": 1,
      "outputs": []
    },
    {
      "cell_type": "code",
      "source": [
        "worksheet = gc.open('Aramis Ramirez').sheet1\n",
        "\n",
        "cell_list = worksheet.range('A1:G14')\n",
        "\n",
        "import random\n",
        "for cell in cell_list:\n",
        "  cell.value = random.randint(1,10)\n",
        "\n",
        "worksheet.update_cells(cell_list)"
      ],
      "metadata": {
        "colab": {
          "base_uri": "https://localhost:8080/"
        },
        "id": "6oMYpmp1Ek1r",
        "outputId": "f7d2da66-94d4-4b3c-a712-2106f7c9cc49"
      },
      "execution_count": 3,
      "outputs": [
        {
          "output_type": "execute_result",
          "data": {
            "text/plain": [
              "{'spreadsheetId': '1ZGIEMK5YiKPT-JRjwCcIrKFk34LNZsKp-zuZx5N8X30',\n",
              " 'updatedCells': 98,\n",
              " 'updatedColumns': 7,\n",
              " 'updatedRange': \"'Hoja 1'!A1:G14\",\n",
              " 'updatedRows': 14}"
            ]
          },
          "metadata": {},
          "execution_count": 3
        }
      ]
    },
    {
      "cell_type": "code",
      "source": [
        "worksheet = gc.open('Aramis Ramirez').sheet1\n",
        "row=worksheet.get_all_values()\n",
        "print(row)"
      ],
      "metadata": {
        "colab": {
          "base_uri": "https://localhost:8080/"
        },
        "id": "dohf6kIBHytF",
        "outputId": "694a4f9a-2788-4964-98df-4195ab89a497"
      },
      "execution_count": 4,
      "outputs": [
        {
          "output_type": "stream",
          "name": "stdout",
          "text": [
            "[['6', '9', '10', '8', '3', '6', '9'], ['5', '4', '9', '9', '7', '8', '3'], ['8', '8', '10', '5', '6', '5', '2'], ['5', '3', '6', '2', '10', '5', '6'], ['8', '3', '9', '3', '5', '7', '1'], ['5', '3', '10', '3', '8', '2', '6'], ['2', '3', '7', '1', '10', '4', '1'], ['7', '8', '1', '9', '3', '3', '6'], ['1', '2', '10', '4', '10', '9', '9'], ['7', '2', '3', '4', '5', '5', '8'], ['9', '3', '7', '2', '1', '8', '10'], ['5', '8', '2', '3', '3', '10', '4'], ['2', '2', '10', '5', '1', '7', '7'], ['7', '3', '7', '5', '8', '9', '9']]\n"
          ]
        }
      ]
    }
  ]
}